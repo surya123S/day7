{
 "cells": [
  {
   "cell_type": "code",
   "execution_count": null,
   "metadata": {},
   "outputs": [],
   "source": [
    "1. for git initialiazation\n",
    " \n",
    "    cmd : git init\n",
    "        \n",
    "2. We have to create some file using \"touch\" command\n",
    "   cmd : touch data.txt\n",
    "   if u want to data some to that file using \"cat\" command\n",
    "   \n",
    "    cmd : cat>data.txt press enter\n",
    "        the type the text then\n",
    "        ctrl+s ctrl+x ctrl+z then enter"
   ]
  }
 ],
 "metadata": {
  "kernelspec": {
   "display_name": "Python 3",
   "language": "python",
   "name": "python3"
  },
  "language_info": {
   "codemirror_mode": {
    "name": "ipython",
    "version": 3
   },
   "file_extension": ".py",
   "mimetype": "text/x-python",
   "name": "python",
   "nbconvert_exporter": "python",
   "pygments_lexer": "ipython3",
   "version": "3.8.3"
  }
 },
 "nbformat": 4,
 "nbformat_minor": 4
}
